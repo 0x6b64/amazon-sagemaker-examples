{
 "cells": [
  {
   "cell_type": "code",
   "execution_count": null,
   "id": "0af6546a",
   "metadata": {},
   "outputs": [],
   "source": [
    "%pip install \"pytorch-lightning==1.6.3\"\n",
    "%pip install \"lightning-bolts==0.5.0\"\n",
    "%pip install torchvision"
   ]
  },
  {
   "cell_type": "code",
   "execution_count": null,
   "id": "a4b67979",
   "metadata": {},
   "outputs": [],
   "source": [
    "# Import Torch.\n",
    "import torch\n",
    "from torch.nn import functional as F\n",
    "\n",
    "# Import Lightning && MNIST data modfule from lightning bolts.\n",
    "# https://lightning-bolts.readthedocs.io/en/latest/\n",
    "import pytorch_lightning as pl\n",
    "from pl_bolts.datamodules.mnist_datamodule import MNISTDataModule"
   ]
  },
  {
   "cell_type": "code",
   "execution_count": null,
   "id": "8b293d1b",
   "metadata": {},
   "outputs": [],
   "source": [
    "# Extend lightning module to override the training methods.\n",
    "class LitClassifier(pl.LightningModule):\n",
    "    def __init__(self, hidden_dim: int = 128, learning_rate: float = 0.0001):\n",
    "        super().__init__()\n",
    "        self.save_hyperparameters()\n",
    "\n",
    "        self.l1 = torch.nn.Linear(28 * 28, self.hparams.hidden_dim)\n",
    "        self.l2 = torch.nn.Linear(self.hparams.hidden_dim, 10)\n",
    "\n",
    "    def forward(self, x):\n",
    "        x = x.view(x.size(0), -1)\n",
    "        x = torch.relu(self.l1(x))\n",
    "        x = torch.relu(self.l2(x))\n",
    "        return x\n",
    "\n",
    "    def training_step(self, batch, batch_idx):\n",
    "        x, y = batch\n",
    "        y_hat = self(x)\n",
    "        loss = F.cross_entropy(y_hat, y)\n",
    "        return loss\n",
    "\n",
    "    def validation_step(self, batch, batch_idx):\n",
    "        x, y = batch\n",
    "        probs = self(x)\n",
    "        acc = self.accuracy(probs, y)\n",
    "        return acc\n",
    "\n",
    "    def test_step(self, batch, batch_idx):\n",
    "        x, y = batch\n",
    "        logits = self(x)\n",
    "        acc = self.accuracy(logits, y)\n",
    "        return acc\n",
    "\n",
    "    def accuracy(self, logits, y):\n",
    "        acc = torch.sum(torch.eq(torch.argmax(logits, -1), y).to(torch.float32)) / len(y)\n",
    "        return acc\n",
    "\n",
    "    def validation_epoch_end(self, outputs) -> None:\n",
    "        self.log(\"val_acc\", torch.stack(outputs).mean(), prog_bar=True)\n",
    "\n",
    "    def test_epoch_end(self, outputs) -> None:\n",
    "        self.log(\"test_acc\", torch.stack(outputs).mean())\n",
    "\n",
    "    def configure_optimizers(self):\n",
    "        return torch.optim.Adam(self.parameters(), lr=self.hparams.learning_rate)"
   ]
  },
  {
   "cell_type": "code",
   "execution_count": null,
   "id": "b485355e",
   "metadata": {},
   "outputs": [],
   "source": [
    "# Create an instance of the data module provided by lightning bolts.\n",
    "dm = MNISTDataModule(batch_size=32)\n",
    "model = LitClassifier()"
   ]
  },
  {
   "cell_type": "code",
   "execution_count": null,
   "id": "3a241cbf",
   "metadata": {},
   "outputs": [],
   "source": [
    "# Single node, CPU based training.\n",
    "# --------------------------------\n",
    "# Pass the customzed lightning module to the Trainer to execute the training process.\n",
    "# https://pytorch-lightning.readthedocs.io/en/stable/common/trainer.html#basic-use\n",
    "trainer = pl.Trainer(max_epochs=200)\n",
    "trainer.fit(model, datamodule=dm)\n",
    "trainer.test(model, datamodule=dm)"
   ]
  },
  {
   "cell_type": "code",
   "execution_count": null,
   "id": "72685c38",
   "metadata": {},
   "outputs": [],
   "source": [
    "# Single node, GPU based training.\n",
    "# --------------------------------\n",
    "# https://pytorch-lightning.readthedocs.io/en/stable/accelerators/gpu.html#single-gpu-training\n",
    "# Interactive launches can be done only when using a single GPU, for single node/multi GPU, multi node/multi GPU\n",
    "# training, the job has to be launched through the SM training toolkit.\n",
    "trainer = pl.Trainer(accelerator=\"gpu\", devices=1)\n",
    "trainer.fit(model, datamodule=dm)\n",
    "trainer.test(model, datamodule=dm)"
   ]
  }
 ],
 "metadata": {
  "kernelspec": {
   "display_name": "conda_amazonei_pytorch_latest_p37",
   "language": "python",
   "name": "conda_amazonei_pytorch_latest_p37"
  },
  "language_info": {
   "codemirror_mode": {
    "name": "ipython",
    "version": 3
   },
   "file_extension": ".py",
   "mimetype": "text/x-python",
   "name": "python",
   "nbconvert_exporter": "python",
   "pygments_lexer": "ipython3",
   "version": "3.7.12"
  }
 },
 "nbformat": 4,
 "nbformat_minor": 5
}
